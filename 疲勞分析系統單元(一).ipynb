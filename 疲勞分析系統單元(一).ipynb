{
  "nbformat": 4,
  "nbformat_minor": 0,
  "metadata": {
    "colab": {
      "name": "疲勞分析系統單元(一).ipynb",
      "provenance": [],
      "collapsed_sections": []
    },
    "kernelspec": {
      "name": "python3",
      "display_name": "Python 3"
    },
    "language_info": {
      "name": "python"
    }
  },
  "cells": [
    {
      "cell_type": "markdown",
      "metadata": {
        "id": "Z9IwwVoBGScb"
      },
      "source": [
        "# **疲勞分析系統單元(一)：快來看哪！這裡有一串心電訊號呀！**"
      ]
    },
    {
      "cell_type": "markdown",
      "metadata": {
        "id": "I_0xz_BwGBjs"
      },
      "source": [
        "# 1.將心電訊號丟進程式庫"
      ]
    },
    {
      "cell_type": "code",
      "metadata": {
        "id": "h1-KV9AcEtWf"
      },
      "source": [
        "from google.colab import files\n",
        "\n",
        "uploaded = files.upload()\n",
        "\n",
        "for fn in uploaded.keys():\n",
        "  print('你已經上傳了','\"{name}\" '.format(\n",
        "      name=fn, length=len(uploaded[fn])))"
      ],
      "execution_count": null,
      "outputs": []
    },
    {
      "cell_type": "markdown",
      "metadata": {
        "id": "jumSBwuRKfEb"
      },
      "source": [
        "# 2.看看真實的心電訊號長什麼樣子吧！\n"
      ]
    },
    {
      "cell_type": "code",
      "metadata": {
        "id": "iFn1_O7XKhJU"
      },
      "source": [
        "import plotly.graph_objects as go\n",
        "import numpy as np\n",
        "import pandas as pd\n",
        "from scipy.signal import find_peaks\n",
        "\n",
        "#來讀取剛上傳的資料吧！\n",
        "df = pd.read_csv('範例心電訊號.csv') \n",
        "data = np.array(df)\n",
        "data2 = data[0 : , 0]\n",
        "\n",
        "#稍微設定一下畫布資訊！\n",
        "fig = go.Figure()\n",
        "fig.add_trace(go.Scatter(\n",
        "    y=data2,\n",
        "    mode='lines+markers',\n",
        "    name='Original Plot'\n",
        "))\n",
        "\n",
        "#秀出心電訊號吧！\n",
        "fig.show() "
      ],
      "execution_count": null,
      "outputs": []
    },
    {
      "cell_type": "markdown",
      "metadata": {
        "id": "lAkzU5dJMX9s"
      },
      "source": [
        "# 3.該怎麼算心跳速率呀...?"
      ]
    },
    {
      "cell_type": "code",
      "metadata": {
        "id": "NslVvNbOLkm8"
      },
      "source": [
        "#偵測每一下心跳的波峰\n",
        "peak_list = find_peaks(data2, height=120, threshold=0.001, distance=120)[0] \n",
        "\n",
        "#稍微設定一下畫布資訊！\n",
        "fig = go.Figure()\n",
        "fig.add_trace(go.Scatter(\n",
        "    y=data2,\n",
        "    mode='lines+markers',\n",
        "    name='Original Plot'\n",
        "))\n",
        "\n",
        "#把偵測到的波峰也標記在畫布上吧！\n",
        "fig.add_trace(go.Scatter(\n",
        "    x=peak_list,\n",
        "    y=[data2[j] for j in peak_list],\n",
        "    mode='markers',\n",
        "    marker=dict(\n",
        "        size=8,\n",
        "        color='red',\n",
        "        symbol='cross'\n",
        "    ),\n",
        "    name='Detected Peaks'\n",
        "))\n",
        "\n",
        "#秀出你的成果吧！\n",
        "fig.show()"
      ],
      "execution_count": null,
      "outputs": []
    },
    {
      "cell_type": "markdown",
      "metadata": {
        "id": "aI3GSvQOPLIT"
      },
      "source": [
        "# 4.可以計算心跳速率了！"
      ]
    },
    {
      "cell_type": "code",
      "metadata": {
        "id": "3idnD8JBPVUU"
      },
      "source": [
        "print('每個心跳波峰的位置是在',peak_list)\n",
        "\n",
        "peak_peak_list = (np.diff(peak_list)) #兩兩波峰相減計算波峰之間的距離\n",
        "print('心跳波峰之間的距離是',peak_peak_list)\n",
        "\n",
        "peak_peak_list2 = peak_peak_list*0.002 #每個點之間的距離是0.002秒\n",
        "print('每個心跳時間是',peak_peak_list2)\n",
        "\n",
        "peak_peak_time = np.mean(peak_peak_list2) #把每個心跳時間加總取平均吧\n",
        "print('每個心跳時間的平均為',peak_peak_time)\n",
        "\n",
        "heart_rate = (60/peak_peak_time) #60秒內心跳可以跳幾下呢\n",
        "print('心跳速率為',heart_rate)\n"
      ],
      "execution_count": null,
      "outputs": []
    },
    {
      "cell_type": "markdown",
      "metadata": {
        "id": "HWu_vDh6VLH0"
      },
      "source": [
        "# 單元小結論：\n",
        "---\n",
        "#1.   心電訊號會有明顯的波峰\n",
        "#2.   偵測波峰是一件重要的事\n",
        "#3.訊號波峰間距時間能夠推算心跳速率\n"
      ]
    }
  ]
}